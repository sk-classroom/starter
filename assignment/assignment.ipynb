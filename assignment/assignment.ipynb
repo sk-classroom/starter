{
 "cells": [
  {
   "cell_type": "markdown",
   "id": "58ffdee1",
   "metadata": {},
   "source": [
    "<a target=\"_blank\" \n",
    "  href=\"https://colab.research.google.com/github/sk-classroom/starter/blob/main/assignment/assignment.ipynb\">\n",
    "  <img src=\"https://colab.research.google.com/assets/colab-badge.svg\" alt=\"Open In Colab\"/>\n",
    "</a>\n",
    "\n",
    "![](https://www.bleepstatic.com/content/hl-images/2022/04/08/GitHub__headpic.jpg)\n",
    "\n",
    "# About this assignment\n",
    "\n",
    "In this assignment, we will learn how to submit the assignment to the GitHub Classroom.\n",
    "\n",
    "## How the grading works\n",
    "\n",
    "When you submit your code, GitHub Actions automatically runs predefined tests on your submission. These tests check if your functions work correctly by comparing their outputs with expected results.\n",
    "\n",
    "The test process is as follows:\n",
    "\n",
    "1. Push your code to GitHub\n",
    "2. Tests run automatically\n",
    "3. Get immediate feedback via green ✓ or red ✗ marks \n",
    "4. View detailed test results in Actions tab\n",
    "\n",
    "## Tips\n",
    "- Run tests locally before submitting\n",
    "- Check error messages carefully\n",
    "- Commit and push after each major change\n",
    "\n",
    "\n",
    "## Protected files\n",
    "\n",
    "Protected files are test files and configuration files you cannot modify. They appear in your repository but don't make any changes to them. You can change them and commit them to your repository, but any changes you make to them will be notified to the instructor for review. \n",
    "\n",
    "## Integrity \n",
    "\n",
    "There is a system that automatically checks code similarity across all submissions and online repositories. Sharing code or submitting copied work will result in zero credit and disciplinary action. While you can discuss concepts, each student must write their own code. Cite any external resources, including AI tools, in your comments. Start early and ask for help during office hours if needed. The goal is to learn through genuine effort, not shortcuts.\n",
    "\n",
    "# Assignment\n",
    "\n",
    "Complete the following tasks and upload your notebook to your GitHub repository.\n",
    "\n",
    "1. Fill in the blank functions, marked by, \"\\#TODO\", in the notebook\n",
    "2. Update this notebook by using `git add`, `git commit`, and then `git push`.\n",
    "3. The notebook will be automatically graded, and your score will be shown on GitHub. See [how to check the results on GitHub](https://docs.github.com/en/education/manage-coursework-with-github-classroom/learn-with-github-classroom/view-autograding-results)\n",
    "\n",
    "Dont's:\n",
    "- Do not import any libraries except for the ones that are already imported. The grading script will not work if you import additional libraries.\n",
    "- Do not change the name of the functions. The grading script will not work if you change the name of the functions.\n",
    "- DO not remove the cells with tag \"gradable\". If you happen to remove the cells with tag \"gradable\", recreate the cell and add the tag \"gradable\" to the cell.\n",
    "\n",
    "Do's:\n",
    "- Make the code clearn and easy to understand. Consider using linters & formatters such as `black`. [Youtube: Linters and fixers: never worry about code formatting again (Vim + Ale + Flake8 & Black for Python) by Yong-Yeol Ahn](https://www.youtube.com/watch?v=4FKPySR6HLk)\n",
    "- You can add additional cells as you like. If you want to include the additional cells in the grading, you need to add the tag \"gradable\" to the cell. Otherwise, your additional cells will be stripped out when grading. \n",
    "\n",
    "## Libraries\n",
    "\n",
    "In the assignment, you can only use the specified libraries. You cannot import any other libraries that result in the grading script failing or a zero score. So make sure NOT to import any other libraries! For example, "
   ]
  },
  {
   "cell_type": "code",
   "execution_count": 1,
   "id": "19b3b8b4",
   "metadata": {},
   "outputs": [],
   "source": [
    "import numpy as np\n",
    "from sklearn.decomposition import PCA"
   ]
  },
  {
   "cell_type": "markdown",
   "id": "ca75b913",
   "metadata": {},
   "source": [
    "This means that you can use numpy and PCA from sklearn.decomposition, but you cannot use any other libraries, including the other functions from sklearn. "
   ]
  },
  {
   "cell_type": "markdown",
   "id": "fd634d69",
   "metadata": {},
   "source": [
    "\n",
    "## Task 1\n",
    "\n",
    "Let us learn how the grading works through the following example. There is two types of cells in this notebook:\n",
    "\n",
    "1. cells with tag \"gradable,\" and \n",
    "2. cells without the tag \"gradable\". \n",
    "\n",
    "Only the gradable cells will be used for grading, meaning that any changes you make to the cell without the tag \"gradable\" will be stripped out when grading.\n",
    "\n",
    "For example, the following cell is not a gradable cell."
   ]
  },
  {
   "cell_type": "code",
   "execution_count": 2,
   "id": "58c0675c",
   "metadata": {},
   "outputs": [],
   "source": [
    "# All cells without the tag \"gradable\" will be stripped out when grading.\n",
    "a = 1\n",
    "b = 1"
   ]
  },
  {
   "cell_type": "markdown",
   "id": "3bea1727",
   "metadata": {},
   "source": [
    "The following cell is a gradable cell. Typically, the gradable cells are functions that you need to implement."
   ]
  },
  {
   "cell_type": "code",
   "execution_count": 3,
   "id": "48cdfb66",
   "metadata": {
    "tags": [
     "gradable"
    ]
   },
   "outputs": [],
   "source": [
    "#TODO\n",
    "def count_characters(s):\n",
    "    \"\"\"\n",
    "    Count the number of characters in the string.\n",
    "\n",
    "    Args:\n",
    "        s: a string\n",
    "    Returns:\n",
    "        an integer representing the number of characters in the string\n",
    "    \"\"\"\n",
    "    return len(s)"
   ]
  },
  {
   "cell_type": "markdown",
   "id": "d14789d2",
   "metadata": {},
   "source": [
    "### Submitting Your Work\n",
    "\n",
    "After completing your work, you can upload your notebook either through GitHub's website interface or using command line git commands. For this assignment, let's use the website method.\n",
    "\n",
    "1. Go to your repository on the GitHub website\n",
    "2. Click \"Add file\" button on the top right corner\n",
    "3. Click \"Upload files\"\n",
    "4. Select the notebook file you want to upload\n",
    "5. Click \"Commit changes\"\n",
    "\n",
    "### Viewing Test Results\n",
    "\n",
    "The results of the tests will be posted on the \"Actions\" tab on GitHub. Let's check the results.\n",
    "\n",
    "1. Go to your repository on the GitHub website\n",
    "2. Click \"Actions\" tab on the top\n",
    "3. Click \"autograding\" workflow\n",
    "4. Click \"Test results\"\n",
    "\n",
    "### Test Times\n",
    "\n",
    "Don't worry if tests take 1-2 minutes to complete. This happens because GitHub Actions creates a fresh virtual environment for each submission, installing Python and required packages. While tests run, you'll see a yellow dot that changes to either a green checkmark or red X when complete. This clean-environment approach ensures fair and consistent testing of your code.\n",
    "\n",
    "If you want to check the code right away, you can check out the test code \"test_xx.py\" under ./tests folder. And copy and paste the code to your notebook to the cell following the cell that contains the function you want to test.\n",
    "\n",
    "The test looks something like this. "
   ]
  },
  {
   "cell_type": "code",
   "execution_count": 4,
   "id": "9ac5d037",
   "metadata": {},
   "outputs": [],
   "source": [
    "count = count_characters(\"Hello\")\n",
    "assert count == 5, \"The function should return 5\""
   ]
  },
  {
   "cell_type": "markdown",
   "id": "830af89d",
   "metadata": {},
   "source": [
    "Now, complete the following tasks. \n",
    "\n",
    "## Task 2\n",
    "\n",
    "Create a function that takes a sentence and returns a list of lowercase tokenized words. Each token is a subtring separated by spaces."
   ]
  },
  {
   "cell_type": "code",
   "execution_count": 27,
   "id": "c6e39707",
   "metadata": {
    "tags": [
     "gradable"
    ]
   },
   "outputs": [],
   "source": [
    "# TODO: Implement the function\n",
    "def tokenize_sentence(sentence):\n",
    "    \"\"\"\n",
    "    Tokenize the sentence into lowercase words.\n",
    "\n",
    "    Args:\n",
    "        sentence: a string\n",
    "    Returns:\n",
    "        a list of lowercase words\n",
    "    \"\"\"\n",
    "    pass # Implement the function"
   ]
  },
  {
   "cell_type": "markdown",
   "id": "7d614580",
   "metadata": {},
   "source": [
    "## Task 3\n",
    "\n",
    "Implement a function to remove common English stopwords."
   ]
  },
  {
   "cell_type": "code",
   "execution_count": 30,
   "id": "c3d7c365",
   "metadata": {
    "tags": [
     "gradable"
    ]
   },
   "outputs": [],
   "source": [
    "# TODO: Implement the function\n",
    "def remove_stopwords(tokens, stopwords):\n",
    "    \"\"\"\n",
    "    Remove common English stopwords from the list of tokens.\n",
    "\n",
    "    Args:\n",
    "        tokens: a list of lowercase words\n",
    "    Returns:\n",
    "        a list of lowercase words without stopwords\n",
    "    \"\"\"\n",
    "    pass # Implement the function"
   ]
  },
  {
   "cell_type": "markdown",
   "id": "b1ade890",
   "metadata": {},
   "source": [
    "# Task 4\n",
    "\n",
    "Calculate word frequency in a given text and return a list of tuples with word and frequency."
   ]
  },
  {
   "cell_type": "code",
   "execution_count": 33,
   "id": "0a541c71",
   "metadata": {
    "tags": [
     "gradable"
    ]
   },
   "outputs": [],
   "source": [
    "# TODO: Implement the function\n",
    "def calculate_word_frequency(tokens):\n",
    "    \"\"\"\n",
    "    Calculate word frequency in a given text.\n",
    "\n",
    "    Args:\n",
    "        tokens: a list of lowercase words\n",
    "    Returns:\n",
    "        a list of tuples with word and frequency\n",
    "    \"\"\"\n",
    "    pass # Implement the function"
   ]
  }
 ],
 "metadata": {
  "kernelspec": {
   "display_name": "Python 3",
   "language": "python",
   "name": "python3"
  },
  "language_info": {
   "codemirror_mode": {
    "name": "ipython",
    "version": 3
   },
   "file_extension": ".py",
   "mimetype": "text/x-python",
   "name": "python",
   "nbconvert_exporter": "python",
   "pygments_lexer": "ipython3",
   "version": "3.11.11"
  }
 },
 "nbformat": 4,
 "nbformat_minor": 5
}
